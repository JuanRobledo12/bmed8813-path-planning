{
 "cells": [
  {
   "cell_type": "code",
   "execution_count": 1,
   "id": "8f9ae9ea",
   "metadata": {},
   "outputs": [],
   "source": [
    "import numpy as np\n",
    "from tsp_solver import *"
   ]
  },
  {
   "cell_type": "markdown",
   "id": "74452247",
   "metadata": {},
   "source": [
    "### The csv file dictates how many waypoints we have. \n",
    "### The ordering on the np.array of the locations has to be aligned with the lables of the locations in the csv file."
   ]
  },
  {
   "cell_type": "code",
   "execution_count": 2,
   "id": "ef1da985",
   "metadata": {},
   "outputs": [
    {
     "name": "stdout",
     "output_type": "stream",
     "text": [
      "[(5.182, 4.369), (1.943, 4.369), (2.591, 7.976), (3.887, 5.766), (7.125, 4.3), (8.421, 1.486)]\n"
     ]
    }
   ],
   "source": [
    "\n",
    "\n",
    "location_arr = np.array([[5.182, 4.369],\n",
    "                              [3.887, 5.766],\n",
    "                              [1.943, 4.369],\n",
    "                              [2.591, 7.976],\n",
    "                              [8.421, 1.486],\n",
    "                              [7.125, 4.3]])\n",
    "\n",
    "node_ls = ['R','C', 'D', 'K', 'L', 'T']\n",
    "nodes_to_visit = [1,2,3,4,5]\n",
    "file_path = 'synthetic_data.csv'\n",
    "\n",
    "#Creating an object of the Path_finder class in tsp_solver.py\n",
    "finder = Path_finder(file_path, location_arr, node_ls, nodes_to_visit)\n",
    "#Using a function of that class\n",
    "path = finder.solve_tsp()\n",
    "print(path)"
   ]
  },
  {
   "cell_type": "code",
   "execution_count": 3,
   "id": "2d757856",
   "metadata": {},
   "outputs": [
    {
     "name": "stdout",
     "output_type": "stream",
     "text": [
      "[(1.2955, 5.766), (1.943, 4.369), (2.591, 7.976), (3.887, 5.766), (7.125, 4.3), (8.421, 1.486)]\n"
     ]
    }
   ],
   "source": [
    "location_arr = np.array([[1.2955, 5.766],\n",
    "                              [3.887, 5.766],\n",
    "                              [1.943, 4.369],\n",
    "                              [2.591, 7.976],\n",
    "                              [8.421, 1.486],\n",
    "                              [7.125, 4.3]])\n",
    "\n",
    "\n",
    "finder = Path_finder(file_path, location_arr, node_ls, nodes_to_visit)\n",
    "\n",
    "path = finder.solve_tsp()\n",
    "print(path)"
   ]
  },
  {
   "cell_type": "code",
   "execution_count": 4,
   "id": "07dc9611",
   "metadata": {},
   "outputs": [
    {
     "name": "stdout",
     "output_type": "stream",
     "text": [
      "[(6.478, 1.486), (8.421, 1.486), (7.125, 4.3), (3.887, 5.766), (1.943, 4.369), (2.591, 7.976)]\n"
     ]
    }
   ],
   "source": [
    "location_arr = np.array([[6.478, 1.486],\n",
    "                              [3.887, 5.766],\n",
    "                              [1.943, 4.369],\n",
    "                              [2.591, 7.976],\n",
    "                              [8.421, 1.486],\n",
    "                              [7.125, 4.3]])\n",
    "\n",
    "\n",
    "finder = Path_finder(file_path, location_arr, node_ls, nodes_to_visit)\n",
    "\n",
    "path = finder.solve_tsp()\n",
    "print(path)"
   ]
  },
  {
   "cell_type": "code",
   "execution_count": 6,
   "id": "09966d00",
   "metadata": {},
   "outputs": [
    {
     "name": "stdout",
     "output_type": "stream",
     "text": [
      "[(1.2955, 5.766), (2.591, 7.976), (7.125, 4.3), (8.421, 1.486)]\n"
     ]
    }
   ],
   "source": [
    "file_path = 'synthetic_data_threeWaypoints.csv'\n",
    "location_arr = np.array([[1.2955, 5.766],\n",
    "                         [2.591, 7.976],\n",
    "                         [7.125, 4.3],\n",
    "                         [8.421, 1.486]])\n",
    "node_ls = ['R','C', 'D']\n",
    "nodes_to_visit = [1,2,3]\n",
    "finder = Path_finder(file_path, location_arr, node_ls, nodes_to_visit)\n",
    "path = finder.solve_tsp()\n",
    "print(path)"
   ]
  },
  {
   "cell_type": "code",
   "execution_count": null,
   "id": "948e8019",
   "metadata": {},
   "outputs": [],
   "source": []
  }
 ],
 "metadata": {
  "kernelspec": {
   "display_name": "Python 3 (ipykernel)",
   "language": "python",
   "name": "python3"
  },
  "language_info": {
   "codemirror_mode": {
    "name": "ipython",
    "version": 3
   },
   "file_extension": ".py",
   "mimetype": "text/x-python",
   "name": "python",
   "nbconvert_exporter": "python",
   "pygments_lexer": "ipython3",
   "version": "3.9.13"
  }
 },
 "nbformat": 4,
 "nbformat_minor": 5
}
