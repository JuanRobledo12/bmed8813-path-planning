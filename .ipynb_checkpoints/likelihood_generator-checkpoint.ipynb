{
 "cells": [
  {
   "cell_type": "code",
   "execution_count": 2,
   "id": "745f958a",
   "metadata": {},
   "outputs": [],
   "source": [
    "import numpy as np\n",
    "import matplotlib.pyplot as plt\n",
    "import pandas as pd"
   ]
  },
  {
   "cell_type": "code",
   "execution_count": 9,
   "id": "d4600d7a",
   "metadata": {},
   "outputs": [],
   "source": [
    "#Lost object: Glasses\n",
    "#House Location Array\n",
    "# 1 = Kitchen Countertop (K).\n",
    "# 2 = Dinning Table (D).\n",
    "# 3 = Cabinet (C).\n",
    "# 4 = Living Room Table (L).\n",
    "# 5 = TV Counter (T)."
   ]
  },
  {
   "cell_type": "code",
   "execution_count": 10,
   "id": "e17bcfc5",
   "metadata": {},
   "outputs": [],
   "source": [
    "#Type the locations in loc_arr.\n",
    "#Type the assigned likelihood in loc_like_arr\n",
    "loc_arr = np.array([1,2,3,4,5])\n",
    "loc_like_arr = np.array([0.05, 0.1,0.05,0.5, 0.3])\n",
    "\n",
    "#Set the sample size from the distribution. AKA the number of generated datapoints.\n",
    "n_data = 1000\n",
    "\n",
    "#Set the name of the output csv file\n",
    "file_name = 'synthetic_data.csv'"
   ]
  },
  {
   "cell_type": "code",
   "execution_count": 11,
   "id": "cefd1b1a",
   "metadata": {},
   "outputs": [
    {
     "data": {
      "image/png": "[encoded data removed]",
      "text/plain": [
       "<Figure size 640x480 with 1 Axes>"
      ]
     },
     "metadata": {},
     "output_type": "display_data"
    }
   ],
   "source": [
    "data = np.random.choice(loc_arr, size=n_data, p=loc_like_arr)\n",
    "df = pd.DataFrame(data)\n",
    "df.to_csv(file_name, index=False, header=False)\n",
    "plt.style.use('ggplot')\n",
    "plt.hist(data, bins=10)\n",
    "plt.show()"
   ]
  },
  {
   "cell_type": "code",
   "execution_count": 3,
   "id": "6fc49d7c",
   "metadata": {},
   "outputs": [],
   "source": [
    "a = np.array([[1,2],[3,4]])"
   ]
  },
  {
   "cell_type": "code",
   "execution_count": 4,
   "id": "07b84347",
   "metadata": {},
   "outputs": [
    {
     "data": {
      "text/plain": [
       "2"
      ]
     },
     "execution_count": 4,
     "metadata": {},
     "output_type": "execute_result"
    }
   ],
   "source": [
    "a[0,1]"
   ]
  },
  {
   "cell_type": "code",
   "execution_count": null,
   "id": "94595c6a",
   "metadata": {},
   "outputs": [],
   "source": []
  }
 ],
 "metadata": {
  "kernelspec": {
   "display_name": "Python 3 (ipykernel)",
   "language": "python",
   "name": "python3"
  },
  "language_info": {
   "codemirror_mode": {
    "name": "ipython",
    "version": 3
   },
   "file_extension": ".py",
   "mimetype": "text/x-python",
   "name": "python",
   "nbconvert_exporter": "python",
   "pygments_lexer": "ipython3",
   "version": "3.9.13"
  }
 },
 "nbformat": 4,
 "nbformat_minor": 5
}
