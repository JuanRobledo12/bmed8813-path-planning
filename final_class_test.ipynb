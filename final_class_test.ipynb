{
 "cells": [
  {
   "cell_type": "code",
   "execution_count": 1,
   "id": "8f9ae9ea",
   "metadata": {},
   "outputs": [],
   "source": [
    "import numpy as np\n",
    "from tsp_solver import *"
   ]
  },
  {
   "cell_type": "markdown",
   "id": "74452247",
   "metadata": {},
   "source": [
    "### The csv file dictates how many waypoints we have. \n",
    "### The ordering on the np.array of the locations has to be aligned with the lables of the locations in the csv file."
   ]
  },
  {
   "cell_type": "code",
   "execution_count": 2,
   "id": "ef1da985",
   "metadata": {},
   "outputs": [
    {
     "name": "stdout",
     "output_type": "stream",
     "text": [
      "[2, 3, 1, 5, 4]\n"
     ]
    }
   ],
   "source": [
    "#Result:\n",
    "# [(5.182, 4.369), (1.943, 4.369), (2.591, 7.976), (3.887, 5.766), (7.125, 4.3), (8.421, 1.486)]\n",
    "#Index: [0, 2, 3, 1, 5, 4]\n",
    "\n",
    "location_arr = np.array([[5.182, 4.369],\n",
    "                              [3.887, 5.766],\n",
    "                              [1.943, 4.369],\n",
    "                              [2.591, 7.976],\n",
    "                              [8.421, 1.486],\n",
    "                              [7.125, 4.3]])\n",
    "\n",
    "nodes_to_visit = [1,2,3,4,5]\n",
    "lost_item = 'wallet'\n",
    "\n",
    "#Creating an object of the Path_finder class in tsp_solver.py\n",
    "finder = Path_finder(lost_item, location_arr, nodes_to_visit)\n",
    "#Using a function of that class\n",
    "path = finder.solve_tsp()\n",
    "print(path)"
   ]
  },
  {
   "cell_type": "code",
   "execution_count": 3,
   "id": "2d757856",
   "metadata": {},
   "outputs": [
    {
     "name": "stdout",
     "output_type": "stream",
     "text": [
      "[2, 3, 1, 5, 4]\n"
     ]
    }
   ],
   "source": [
    "#Result\n",
    "#[(1.2955, 5.766), (1.943, 4.369), (2.591, 7.976), (3.887, 5.766), (7.125, 4.3), (8.421, 1.486)]\n",
    "#Index: [0, 2, 3, 1, 5, 4]\n",
    "location_arr = np.array([[1.2955, 5.766],\n",
    "                              [3.887, 5.766],\n",
    "                              [1.943, 4.369],\n",
    "                              [2.591, 7.976],\n",
    "                              [8.421, 1.486],\n",
    "                              [7.125, 4.3]])\n",
    "\n",
    "\n",
    "finder = Path_finder(lost_item, location_arr, nodes_to_visit)\n",
    "\n",
    "path = finder.solve_tsp()\n",
    "print(path)"
   ]
  },
  {
   "cell_type": "code",
   "execution_count": 4,
   "id": "07dc9611",
   "metadata": {},
   "outputs": [
    {
     "name": "stdout",
     "output_type": "stream",
     "text": [
      "[4, 5, 1, 2, 3]\n"
     ]
    }
   ],
   "source": [
    "#Result\n",
    "#[(6.478, 1.486), (8.421, 1.486), (7.125, 4.3), (3.887, 5.766), (1.943, 4.369), (2.591, 7.976)]\n",
    "#Index: [0, 4, 5, 1, 2, 3]\n",
    "location_arr = np.array([[6.478, 1.486],\n",
    "                              [3.887, 5.766],\n",
    "                              [1.943, 4.369],\n",
    "                              [2.591, 7.976],\n",
    "                              [8.421, 1.486],\n",
    "                              [7.125, 4.3]])\n",
    "\n",
    "\n",
    "finder = Path_finder(lost_item, location_arr, nodes_to_visit)\n",
    "\n",
    "path = finder.solve_tsp()\n",
    "print(path)"
   ]
  },
  {
   "cell_type": "code",
   "execution_count": 5,
   "id": "09966d00",
   "metadata": {},
   "outputs": [
    {
     "name": "stdout",
     "output_type": "stream",
     "text": [
      "[1, 2, 3]\n"
     ]
    }
   ],
   "source": [
    "#Result\n",
    "#[(1.2955, 5.766), (2.591, 7.976), (7.125, 4.3), (8.421, 1.486)]\n",
    "#Index: [0, 1, 2, 3]\n",
    "lost_item = 'phone'\n",
    "location_arr = np.array([[1.2955, 5.766],\n",
    "                         [2.591, 7.976],\n",
    "                         [7.125, 4.3],\n",
    "                         [8.421, 1.486]])\n",
    "nodes_to_visit = [1,2,3]\n",
    "finder = Path_finder(lost_item, location_arr, nodes_to_visit)\n",
    "path = finder.solve_tsp()\n",
    "print(path)"
   ]
  },
  {
   "cell_type": "code",
   "execution_count": null,
   "id": "948e8019",
   "metadata": {},
   "outputs": [],
   "source": []
  }
 ],
 "metadata": {
  "kernelspec": {
   "display_name": "Python 3 (ipykernel)",
   "language": "python",
   "name": "python3"
  },
  "language_info": {
   "codemirror_mode": {
    "name": "ipython",
    "version": 3
   },
   "file_extension": ".py",
   "mimetype": "text/x-python",
   "name": "python",
   "nbconvert_exporter": "python",
   "pygments_lexer": "ipython3",
   "version": "3.9.13"
  }
 },
 "nbformat": 4,
 "nbformat_minor": 5
}
