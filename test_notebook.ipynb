{
 "cells": [
  {
   "cell_type": "code",
   "execution_count": 48,
   "id": "745f958a",
   "metadata": {},
   "outputs": [],
   "source": [
    "import numpy as np\n",
    "import matplotlib.pyplot as plt\n",
    "import pandas as pd"
   ]
  },
  {
   "cell_type": "code",
   "execution_count": 11,
   "id": "d4600d7a",
   "metadata": {},
   "outputs": [],
   "source": [
    "#Lost object: Glasses\n",
    "#House Location Array\n",
    "# 1 = Kitchen Countertop.\n",
    "# 2 = Dinning Table.\n",
    "# 3 = Cabinet.\n",
    "# 4 = Living Room Table.\n",
    "# 5 = TV Counter."
   ]
  },
  {
   "cell_type": "code",
   "execution_count": 31,
   "id": "e17bcfc5",
   "metadata": {},
   "outputs": [],
   "source": [
    "loc_arr = np.array([1,2,3,4,5])"
   ]
  },
  {
   "cell_type": "code",
   "execution_count": 32,
   "id": "20200443",
   "metadata": {},
   "outputs": [],
   "source": [
    "loc_prob_arr = np.array([0.05, 0.1,0.05,0.5, 0.3])"
   ]
  },
  {
   "cell_type": "code",
   "execution_count": 38,
   "id": "575ea2ac",
   "metadata": {},
   "outputs": [],
   "source": [
    "data = np.random.choice(loc_arr, size=1000, p=loc_prob_arr)"
   ]
  },
  {
   "cell_type": "code",
   "execution_count": 39,
   "id": "a6759ab9",
   "metadata": {},
   "outputs": [
    {
     "data": {
      "text/plain": [
       "array([4, 4, 5, 2, 4, 4, 5, 4, 4, 4, 4, 5, 2, 3, 4, 3, 5, 3, 4, 5, 4, 3,\n",
       "       4, 4, 4, 4, 5, 3, 1, 5, 1, 5, 5, 4, 2, 4, 4, 4, 5, 4, 5, 5, 2, 5,\n",
       "       4, 4, 1, 4, 4, 4, 5, 4, 4, 3, 4, 5, 4, 4, 4, 4, 4, 5, 4, 4, 4, 2,\n",
       "       5, 4, 5, 5, 4, 5, 2, 4, 2, 4, 5, 5, 5, 2, 4, 5, 4, 4, 5, 5, 4, 2,\n",
       "       2, 4, 4, 4, 5, 5, 4, 4, 4, 2, 4, 5, 4, 2, 4, 1, 4, 4, 4, 4, 4, 2,\n",
       "       4, 4, 4, 5, 2, 2, 4, 2, 2, 4, 4, 5, 4, 2, 4, 4, 4, 4, 4, 4, 5, 1,\n",
       "       5, 4, 4, 4, 2, 4, 4, 4, 4, 4, 4, 4, 5, 3, 4, 5, 4, 4, 5, 2, 4, 5,\n",
       "       4, 5, 3, 2, 4, 5, 5, 2, 4, 5, 5, 2, 4, 5, 5, 3, 4, 4, 2, 4, 4, 5,\n",
       "       4, 2, 5, 3, 5, 5, 4, 4, 3, 2, 4, 4, 4, 5, 4, 2, 4, 4, 5, 5, 2, 4,\n",
       "       5, 1, 5, 4, 4, 5, 4, 4, 3, 5, 1, 2, 4, 5, 1, 2, 5, 5, 4, 4, 4, 4,\n",
       "       4, 5, 1, 4, 4, 5, 5, 4, 2, 4, 5, 4, 5, 4, 4, 4, 4, 4, 5, 4, 4, 4,\n",
       "       1, 4, 5, 5, 2, 4, 4, 4, 2, 2, 2, 4, 4, 5, 4, 5, 4, 4, 4, 5, 5, 5,\n",
       "       2, 4, 4, 5, 4, 4, 5, 5, 5, 4, 4, 4, 4, 5, 4, 4, 4, 1, 4, 1, 4, 5,\n",
       "       4, 4, 4, 4, 5, 4, 5, 4, 4, 4, 1, 4, 4, 4, 4, 4, 4, 4, 4, 1, 5, 4,\n",
       "       4, 4, 5, 4, 5, 5, 4, 5, 2, 4, 1, 4, 4, 2, 4, 4, 5, 3, 4, 4, 4, 4,\n",
       "       4, 5, 4, 5, 5, 5, 5, 4, 3, 4, 2, 4, 4, 4, 5, 4, 4, 4, 4, 2, 5, 4,\n",
       "       5, 2, 5, 5, 4, 5, 2, 5, 3, 1, 5, 1, 3, 4, 5, 4, 5, 1, 5, 5, 3, 4,\n",
       "       4, 1, 4, 4, 5, 5, 1, 5, 3, 4, 4, 5, 4, 3, 4, 4, 4, 5, 5, 4, 5, 3,\n",
       "       5, 4, 4, 1, 1, 5, 1, 1, 4, 4, 4, 5, 2, 5, 4, 4, 4, 4, 4, 4, 4, 4,\n",
       "       4, 4, 5, 4, 2, 2, 1, 4, 5, 4, 1, 4, 5, 4, 5, 5, 2, 4, 4, 5, 5, 4,\n",
       "       4, 1, 2, 5, 4, 4, 4, 4, 1, 4, 4, 2, 4, 4, 1, 5, 5, 5, 5, 4, 4, 4,\n",
       "       2, 4, 2, 5, 4, 4, 2, 5, 4, 4, 5, 4, 5, 5, 5, 4, 4, 4, 4, 5, 2, 3,\n",
       "       2, 4, 4, 5, 1, 3, 4, 5, 5, 4, 5, 4, 4, 4, 5, 4, 5, 5, 4, 5, 2, 2,\n",
       "       4, 4, 5, 5, 4, 4, 3, 2, 4, 4, 2, 4, 4, 5, 4, 4, 4, 5, 4, 5, 4, 4,\n",
       "       3, 5, 4, 4, 4, 4, 4, 5, 4, 2, 5, 4, 4, 4, 3, 5, 4, 4, 4, 5, 3, 4,\n",
       "       4, 4, 4, 5, 5, 2, 5, 5, 5, 5, 4, 5, 4, 4, 1, 2, 4, 4, 4, 4, 4, 4,\n",
       "       4, 2, 5, 2, 2, 4, 5, 2, 5, 3, 4, 5, 4, 4, 4, 4, 4, 1, 5, 1, 1, 2,\n",
       "       2, 5, 4, 5, 2, 5, 4, 3, 4, 5, 2, 3, 5, 4, 4, 5, 4, 4, 4, 5, 4, 5,\n",
       "       5, 5, 1, 4, 4, 4, 1, 4, 2, 5, 4, 4, 4, 5, 4, 5, 5, 4, 4, 4, 2, 4,\n",
       "       4, 5, 4, 2, 4, 4, 4, 4, 4, 4, 4, 4, 4, 5, 3, 4, 5, 4, 2, 4, 4, 4,\n",
       "       4, 5, 4, 4, 4, 5, 2, 5, 3, 5, 5, 3, 2, 2, 5, 4, 4, 4, 4, 4, 4, 5,\n",
       "       2, 5, 4, 5, 4, 5, 1, 4, 5, 4, 3, 2, 5, 4, 5, 4, 5, 4, 3, 5, 2, 4,\n",
       "       4, 5, 4, 4, 4, 4, 4, 1, 4, 5, 4, 4, 2, 5, 4, 4, 4, 4, 4, 4, 4, 5,\n",
       "       5, 1, 1, 4, 5, 4, 4, 4, 4, 3, 5, 2, 4, 4, 5, 4, 5, 4, 5, 3, 4, 5,\n",
       "       4, 4, 5, 5, 2, 3, 4, 2, 2, 4, 2, 5, 4, 5, 1, 5, 4, 5, 4, 2, 4, 4,\n",
       "       4, 4, 3, 2, 4, 5, 4, 1, 1, 5, 4, 1, 2, 4, 5, 4, 5, 4, 5, 5, 2, 5,\n",
       "       4, 1, 4, 4, 5, 5, 2, 1, 5, 5, 5, 5, 2, 5, 4, 4, 2, 3, 5, 4, 5, 4,\n",
       "       5, 4, 4, 5, 5, 4, 4, 5, 5, 3, 4, 5, 4, 4, 4, 5, 4, 4, 4, 5, 4, 5,\n",
       "       5, 4, 5, 2, 4, 5, 4, 4, 5, 4, 4, 4, 4, 4, 4, 4, 5, 4, 3, 4, 4, 5,\n",
       "       4, 4, 3, 4, 5, 5, 4, 5, 5, 5, 5, 5, 5, 5, 5, 1, 5, 2, 5, 4, 5, 5,\n",
       "       4, 5, 5, 4, 4, 4, 4, 5, 4, 2, 5, 4, 2, 4, 4, 5, 4, 5, 5, 4, 4, 4,\n",
       "       4, 4, 5, 2, 5, 4, 4, 5, 4, 1, 4, 2, 4, 4, 1, 5, 5, 4, 4, 3, 5, 5,\n",
       "       2, 5, 4, 5, 4, 4, 1, 5, 5, 4, 4, 4, 4, 4, 5, 5, 4, 4, 4, 4, 4, 5,\n",
       "       4, 4, 4, 5, 2, 5, 1, 5, 4, 5, 1, 2, 2, 4, 4, 5, 5, 3, 4, 4, 4, 4,\n",
       "       2, 4, 5, 4, 4, 2, 4, 4, 2, 5, 4, 4, 4, 1, 1, 1, 4, 4, 5, 3, 4, 4,\n",
       "       4, 5, 5, 2, 5, 5, 4, 4, 4, 4])"
      ]
     },
     "execution_count": 39,
     "metadata": {},
     "output_type": "execute_result"
    }
   ],
   "source": [
    "data"
   ]
  },
  {
   "cell_type": "code",
   "execution_count": 40,
   "id": "cefd1b1a",
   "metadata": {},
   "outputs": [
    {
     "data": {
      "image/png": "[encoded data removed]",
      "text/plain": [
       "<Figure size 640x480 with 1 Axes>"
      ]
     },
     "metadata": {},
     "output_type": "display_data"
    }
   ],
   "source": [
    "plt.style.use('ggplot')\n",
    "plt.hist(data, bins=10)\n",
    "plt.show()"
   ]
  },
  {
   "cell_type": "code",
   "execution_count": 45,
   "id": "82205b2f",
   "metadata": {},
   "outputs": [],
   "source": [
    "prob_kitchen = data[data==1].size/data.size\n",
    "prob_dinning = data[data==2].size/data.size\n",
    "prob_cabinet = data[data==3].size/data.size\n",
    "prob_living = data[data==4].size/data.size\n",
    "prob_tv = data[data==5].size/data.size\n",
    "synth_prob_arr = np.array([prob_kitchen, prob_dinning, prob_cabinet, prob_living, prob_tv])"
   ]
  },
  {
   "cell_type": "code",
   "execution_count": 46,
   "id": "d731bc08",
   "metadata": {},
   "outputs": [
    {
     "name": "stdout",
     "output_type": "stream",
     "text": [
      "[0.055 0.105 0.045 0.505 0.29 ]\n"
     ]
    }
   ],
   "source": [
    "print(synth_prob_arr)"
   ]
  },
  {
   "cell_type": "code",
   "execution_count": 47,
   "id": "2f1b6373",
   "metadata": {},
   "outputs": [
    {
     "data": {
      "text/plain": [
       "1.0"
      ]
     },
     "execution_count": 47,
     "metadata": {},
     "output_type": "execute_result"
    }
   ],
   "source": [
    "np.sum(synth_prob_arr)"
   ]
  },
  {
   "cell_type": "code",
   "execution_count": 49,
   "id": "ed7db7ea",
   "metadata": {},
   "outputs": [],
   "source": [
    "df = pd.DataFrame(data)"
   ]
  },
  {
   "cell_type": "code",
   "execution_count": 50,
   "id": "9ec8481a",
   "metadata": {},
   "outputs": [],
   "source": [
    "df.to_csv('synthetic_data.csv', index=False, header=False)"
   ]
  },
  {
   "cell_type": "code",
   "execution_count": null,
   "id": "d168b65f",
   "metadata": {},
   "outputs": [],
   "source": []
  }
 ],
 "metadata": {
  "kernelspec": {
   "display_name": "Python 3 (ipykernel)",
   "language": "python",
   "name": "python3"
  },
  "language_info": {
   "codemirror_mode": {
    "name": "ipython",
    "version": 3
   },
   "file_extension": ".py",
   "mimetype": "text/x-python",
   "name": "python",
   "nbconvert_exporter": "python",
   "pygments_lexer": "ipython3",
   "version": "3.9.13"
  }
 },
 "nbformat": 4,
 "nbformat_minor": 5
}
