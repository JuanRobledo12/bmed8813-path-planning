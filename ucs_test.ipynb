{
 "cells": [
  {
   "cell_type": "code",
   "execution_count": 111,
   "id": "7c07558d",
   "metadata": {},
   "outputs": [],
   "source": [
    "import numpy as np\n",
    "import math\n",
    "import heapq"
   ]
  },
  {
   "cell_type": "code",
   "execution_count": 112,
   "id": "02d10290",
   "metadata": {},
   "outputs": [],
   "source": [
    "#Euclidean distance calculator\n",
    "#coor_1 and coor_2 are tuples\n",
    "def eu_dist(coor_1, coor_2_matrix):\n",
    "    eu_dist = np.sqrt(np.sum((coor_1 - coor_2_matrix)**2, axis=1))\n",
    "    return eu_dist"
   ]
  },
  {
   "cell_type": "code",
   "execution_count": 113,
   "id": "600b5e44",
   "metadata": {},
   "outputs": [],
   "source": [
    "def dijkstra_shortest_path(graph, start, end):\n",
    "    # Initialize the distance and previous node dictionaries\n",
    "    dist = {node: float('inf') for node in graph}\n",
    "    prev = {node: None for node in graph}\n",
    "    \n",
    "    # Set the distance of the start node to 0\n",
    "    dist[start] = 0\n",
    "    \n",
    "    # Create a priority queue to store the nodes to be processed\n",
    "    pq = [(0, start)]\n",
    "    \n",
    "    # Loop through the priority queue until it is empty\n",
    "    while pq:\n",
    "        # Get the node with the lowest distance from the priority queue\n",
    "        (cur_dist, cur_node) = heapq.heappop(pq)\n",
    "        \n",
    "        # If the current distance is greater than the known distance, skip\n",
    "        if cur_dist > dist[cur_node]:\n",
    "            continue\n",
    "        \n",
    "        # If we have reached the end node, return the shortest path and its total distance\n",
    "        if cur_node == end:\n",
    "            path = []\n",
    "            while cur_node is not None:\n",
    "                path.append(cur_node)\n",
    "                cur_node = prev[cur_node]\n",
    "            return (list(reversed(path)), dist[end])\n",
    "        \n",
    "        # Update the distances and previous nodes of neighboring nodes\n",
    "        for neighbor, weight in graph[cur_node].items():\n",
    "            alt_dist = dist[cur_node] + weight\n",
    "            if alt_dist < dist[neighbor]:\n",
    "                dist[neighbor] = alt_dist\n",
    "                prev[neighbor] = cur_node\n",
    "                heapq.heappush(pq, (alt_dist, neighbor))\n",
    "    \n",
    "    # If we have not found a path to the end node, return None\n",
    "    return None"
   ]
  },
  {
   "cell_type": "code",
   "execution_count": 114,
   "id": "452ff3cd",
   "metadata": {},
   "outputs": [],
   "source": [
    "#Dictionary of all parent-child node relationships\n",
    "node_relationships_dict = {\n",
    "    \n",
    "    'R' : ['C', 'D', 'K', 'T', 'L'],\n",
    "    'C' : ['R', 'D', 'K', 'T', 'L'],\n",
    "    'K' : ['R', 'D', 'C', 'T', 'L'],\n",
    "    'D' : ['R', 'C', 'K', 'T', 'L'],\n",
    "    'T' : ['R', 'D', 'K', 'C', 'L'],\n",
    "    'L' : ['R', 'D', 'K', 'T', 'C'] \n",
    "}\n",
    "\n",
    "#Dictonary of all nodes coordinates\n",
    "#Row order: R, C, K, D, T, L \n",
    "node_location_arr = np.array([[5.182, 4.369],\n",
    "                              [3.887, 5.766],\n",
    "                              [2.591, 7.976],\n",
    "                              [1.943, 4.369],\n",
    "                              [7.125, 4.3],\n",
    "                             [8.421, 1.486]])"
   ]
  },
  {
   "cell_type": "code",
   "execution_count": 115,
   "id": "a19f05dc",
   "metadata": {},
   "outputs": [],
   "source": [
    "intial_node = 'R'\n",
    "unvisited_set = ['C', 'D', 'K', 'T', 'L']"
   ]
  },
  {
   "cell_type": "code",
   "execution_count": 116,
   "id": "c4450c27",
   "metadata": {},
   "outputs": [
    {
     "data": {
      "text/plain": [
       "array([[5.182, 4.369],\n",
       "       [3.887, 5.766],\n",
       "       [2.591, 7.976],\n",
       "       [1.943, 4.369],\n",
       "       [7.125, 4.3  ],\n",
       "       [8.421, 1.486]])"
      ]
     },
     "execution_count": 116,
     "metadata": {},
     "output_type": "execute_result"
    }
   ],
   "source": [
    "node_location_arr"
   ]
  },
  {
   "cell_type": "code",
   "execution_count": 117,
   "id": "b6f73a20",
   "metadata": {},
   "outputs": [
    {
     "name": "stdout",
     "output_type": "stream",
     "text": [
      "[4.44114062 2.56197502 0.         3.6647446  5.83696257 8.72404723]\n"
     ]
    }
   ],
   "source": [
    "print(eu_dist(node_location_arr[2,:], node_location_arr))"
   ]
  },
  {
   "cell_type": "code",
   "execution_count": 118,
   "id": "45a63047",
   "metadata": {},
   "outputs": [
    {
     "data": {
      "text/plain": [
       "10.5"
      ]
     },
     "execution_count": 118,
     "metadata": {},
     "output_type": "execute_result"
    }
   ],
   "source": [
    "np.sum(np.array([4.441, 3.665, 2.394]))"
   ]
  },
  {
   "cell_type": "code",
   "execution_count": 119,
   "id": "26f76958",
   "metadata": {},
   "outputs": [],
   "source": [
    "graph = {\n",
    "    'R': {'C': 1.905, 'D': 3.239, 'K': 4.441},\n",
    "    'C': {'R': 1.905, 'D': 2.394, 'K': 2.562},\n",
    "    'D': {'R': 3.239, 'C': 2.394, 'K': 3.665},\n",
    "    'K': {'R': 4.441,'C': 2.562, 'D':3.665}\n",
    "}"
   ]
  },
  {
   "cell_type": "code",
   "execution_count": 120,
   "id": "63c0013c",
   "metadata": {},
   "outputs": [
    {
     "name": "stdout",
     "output_type": "stream",
     "text": [
      "Path: ['R', 'C']\n",
      "Distance: 1.905\n",
      "Path: ['R', 'D']\n",
      "Distance: 3.239\n",
      "Path: ['R', 'K']\n",
      "Distance: 4.441\n"
     ]
    }
   ],
   "source": [
    "# Find the shortest path from 'R' to 'C'\n",
    "path, distance = dijkstra_shortest_path(graph, 'R', 'C')\n",
    "print(\"Path:\", path)\n",
    "print(\"Distance:\", distance)\n",
    "\n",
    "# Find the shortest path from 'R' to 'D'\n",
    "path, distance = dijkstra_shortest_path(graph, 'R', 'D')\n",
    "print(\"Path:\", path)\n",
    "print(\"Distance:\", distance)\n",
    "\n",
    "# Find the shortest path from 'R' to 'K'\n",
    "path, distance = dijkstra_shortest_path(graph, 'R', 'K')\n",
    "print(\"Path:\", path)\n",
    "print(\"Distance:\", distance)"
   ]
  },
  {
   "cell_type": "code",
   "execution_count": 109,
   "id": "ded03f99",
   "metadata": {},
   "outputs": [
    {
     "data": {
      "text/plain": [
       "({'R': 0, 'C': 1.905, 'D': 3.239, 'K': 4.441},\n",
       " {'R': None, 'C': 'R', 'D': 'R', 'K': 'R'})"
      ]
     },
     "execution_count": 109,
     "metadata": {},
     "output_type": "execute_result"
    }
   ],
   "source": [
    "dist"
   ]
  },
  {
   "cell_type": "code",
   "execution_count": null,
   "id": "787d9935",
   "metadata": {},
   "outputs": [],
   "source": []
  },
  {
   "cell_type": "code",
   "execution_count": null,
   "id": "7ea2044a",
   "metadata": {},
   "outputs": [],
   "source": []
  },
  {
   "cell_type": "code",
   "execution_count": null,
   "id": "31adee23",
   "metadata": {},
   "outputs": [],
   "source": []
  }
 ],
 "metadata": {
  "kernelspec": {
   "display_name": "Python 3 (ipykernel)",
   "language": "python",
   "name": "python3"
  },
  "language_info": {
   "codemirror_mode": {
    "name": "ipython",
    "version": 3
   },
   "file_extension": ".py",
   "mimetype": "text/x-python",
   "name": "python",
   "nbconvert_exporter": "python",
   "pygments_lexer": "ipython3",
   "version": "3.9.13"
  }
 },
 "nbformat": 4,
 "nbformat_minor": 5
}
